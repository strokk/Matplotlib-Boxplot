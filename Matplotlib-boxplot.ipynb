{
 "cells": [
  {
   "cell_type": "markdown",
   "metadata": {},
   "source": [
    "# Investigation into matplotlib.pyplot.boxplot"
   ]
  },
  {
   "cell_type": "markdown",
   "metadata": {},
   "source": [
    "## Introduction to matplotlib"
   ]
  },
  {
   "cell_type": "markdown",
   "metadata": {},
   "source": [
    "<p align=\"center\"><img src=\"https://matplotlib.org/_static/logo2.png\" width=300px></p>\n",
    "\n",
    "In order to better understand the investigation I will give a brief explanation into Matplotlib and boxplots. Firstly Matplotlib is a Python 2D multi-platform plotting library built on NumPy arrays, and designed to work with the broader SciPy stack.\n",
    "\n",
    "Matplotlib can be used in Python scripts, the Python and IPython shells, the Jupyter notebook, web application servers, and four graphical user interface toolkits.\n",
    "\n",
    "Matplotlib tries to make easy things easy and hard things possible. You can generate plots, histograms, power spectra, bar charts, errorcharts, scatterplots, etc., with just a few lines of code. [1]\n",
    "\n",
    "Matplotlib is the whole package, matplotlib.pyplot is a module in matplotlib, which can be used for simple plotting, providing a  MATLAB-like interface. Each pyplot function makes changes to a figure: e.g., creates a figure, creates a plotting area in a figure, plots lines in a plotting area, decorates the plot with labels, etc. Particularly when combined with IPython. For the power user, you have full control of line styles, font properties, axes properties, etc, via an object oriented interface or via a set of functions familiar to MATLAB users.\n",
    "\n",
    "Matplotlib library has many Features, such as:\n",
    "\n",
    "- High Quality Plots Representation\n",
    "- PostScript Output For Inclusion With TeX Documents\n",
    "- Embedded In Wide Range Of Graphical Libraries\n",
    "- Allow User To Write Codes In Pythonic, Easy and Object Orient Program Way\n",
    "- Cross Platform Support\n",
    "- Good Performance\n",
    "- Can Handle Large Data\n",
    "\n",
    "As we can see, matplotlib is a very popular library used for producing simple and powerful visualizations, mostly due to facilitating the analyst or programmer who is using it to help reduce the workflow necessary and without having to worry about writing many lines of code. As an example, let's see how the Matplotlib library can be used to create a simple boxplot."
   ]
  },
  {
   "cell_type": "code",
   "execution_count": 1,
   "metadata": {},
   "outputs": [
    {
     "data": {
      "image/png": "[encoded data removed]",
      "text/plain": [
       "<Figure size 432x288 with 1 Axes>"
      ]
     },
     "metadata": {},
     "output_type": "display_data"
    }
   ],
   "source": [
    "#importing matplotlib and numpy library \n",
    "import matplotlib.pyplot as plt\n",
    "import numpy as np\n",
    "\n",
    "#magic command for jupyter notebook to make sure all plots are rendered\n",
    "%matplotlib inline\n",
    " \n",
    "#faking some data \n",
    "np.random.seed(10)\n",
    "data1 = np.random.normal(90, 20, 100)\n",
    "data2 = np.random.normal(70, 30, 100)\n",
    "data3 = np.random.normal(60, 25, 100)\n",
    "data4 = np.random.normal(80, 20, 100)\n",
    " \n",
    "#combining the data\n",
    "df = [data1, data2, data3, data4]\n",
    "    \n",
    "#using the function to plot a bar chart\n",
    "plt.boxplot(df)\n",
    "\n",
    "#x and y labels\n",
    "plt.xlabel('Samples') \n",
    "plt.ylabel('Value')  \n",
    " \n",
    "#showing the plot\n",
    "plt.show()"
   ]
  },
  {
   "cell_type": "markdown",
   "metadata": {},
   "source": [
    "## Introduction to Boxplots"
   ]
  },
  {
   "cell_type": "markdown",
   "metadata": {},
   "source": [
    "<p align=\"center\"><img src=\"https://cdn-images-1.medium.com/max/1600/1*2c21SkzJMf3frPXPAR_gZA.png\" width=550px></p>\n",
    "\n",
    "The above image illustrates a boxplot, or also known as a box-and-whisker plot or a box-and-whisker diagram, which was first introduced by mathematician John Tukey in 1969. A boxplot is a standardized way of displaying the distribution of a given data based on a five number summary (the “minimum”, first quartile (Q1), median, third quartile (Q3), and “maximum”). \n",
    "\n",
    "The boxplot can illustrate the information about your outliers and what their values are. It can also tell if the given data is symmetrical, how tightly the data is grouped, and if and how the data is skewed. The very purpose of this diagram is to identify outliers and discard it from the data series before making any further observation so that the conclusion made from the study gives more accurate results not influenced by any extremes or abnormal values.\n",
    "\n",
    "Box and whisker plots allow for comparison of data from different categories for easier, more effective decision-making. It’s most likely used when you have multiple datasets from independent sources that are co-related in some way. As an examples we can think of test scores of students in the same classroom, also data from before and after a process change.\n",
    "\n",
    "Boxplots have been used since their introduction in 1969 and are varied in both their potential visualizations as well as use cases across many disciplines in statistics and data analysis.\n",
    "\n",
    "I believe it's valid to give some further clarification into what Quartiles and Percentiles are and its use in statistics:\n",
    "- Quartile: A quartile is a statistical term, derived from the word quarter, which describes a division of observations into four defined intervals based upon the values of the data and how they compare to the entire set of observations. Therefore a quartile is a certain fourth of a dataset. When arranging a dataset in increasing order from the lowest to the highest, then you divide this data into groups of four, you end up with quartiles. There are three quartiles that are studied in statistics: a lower quartile, median, and upper quartile, which I will get into more depth about each of these in the next section.\n",
    "\n",
    "- Percentiles: Percentiles are like quartiles, but they divide the dataset into 100 equal parts instead of 4 equal parts. They are useful for giving the relative standing of an individual in a population, they are essentially the rank position of an individual. There are some definitions which vary specifying on how to calculate percentiles. One of them is that the fraction of the population which is less than the specified value.\n",
    "\n",
    "The median and quartiles divide a row of numbers into four groups of equal size, below I give some further descriptions of each number summary:\n",
    "\n",
    "- The extremes (Min and Max), which provide the range covered by the given data\n",
    "\n",
    "And these 3 together form the Interquartile range (IQR), which is the range covered by the middle 50% of the data:\n",
    "\n",
    "- Median (Middle quartile): It marks the mid-point of the dataset and is shown by the yellow line that divides the box into two parts. Half the scores are greater than or equal to this value and half are less. This is the 50th percentile.\n",
    "\n",
    "- First quartile or Lower quartile (Q1): It's the middle number between the smallest number (not the “minimum”) and the median of the dataset. This is the 25th percentile.\n",
    "- Third quartile or Upper quartile (Q3): It's the middle value between the median and the highest value (not the “maximum”) of the dataset. This is the 75th percentile.\n",
    "\n",
    "Another interesting aspect of the Box and Whisker Plots are:\n",
    "- Whiskers (shown in blue): represent scores outside the middle 50%. Whiskers often (but not always) stretch over a wider range of scores than the middle quartile groups.\n",
    "- Outliers (shown as green circles): Points which falls more than 1.5 times the IQR above the third quartile or below the first quartile., they are usually treated as abnormal values that can affect the overall observation due to its very high or low extreme values, \n"
   ]
  },
  {
   "cell_type": "markdown",
   "metadata": {},
   "source": [
    "## Demonstration of a Box and Whisker Plot\n",
    "\n",
    "As I have already explained a brief introduction into what a boxplot is, it's history and also on when its  mostly used, I will now demonstrate below a boxplot from a dataset that shows a comparison between the prices of four Cryptocurrencies, Etherium (EHT), Litecoin (LTC), Dash (DASH) and Ripple (XMR) since mid 2017 until November 2018.\n",
    "\n",
    "Thie price analysis for each coin was obtained from Coinmetrics [2], and I have created the file crypto.csv with the price of each coin from within the specified range of date, so it would be usable for this demonstration of the boxplot: "
   ]
  },
  {
   "cell_type": "code",
   "execution_count": 2,
   "metadata": {
    "scrolled": true
   },
   "outputs": [
    {
     "data": {
      "image/png": "[encoded data removed]",
      "text/plain": [
       "<Figure size 432x288 with 1 Axes>"
      ]
     },
     "metadata": {},
     "output_type": "display_data"
    }
   ],
   "source": [
    "#importing pandas\n",
    "import pandas as pd\n",
    "\n",
    "#reading dataset\n",
    "dataset = pd.read_csv(\"crypto.csv\")\n",
    "\n",
    "#creating boxplot\n",
    "dataset.plot(kind='box')\n",
    "plt.title('Box and Whisker Plot') \n",
    "plt.ylabel('Price (USD)')  \n",
    "plt.show()"
   ]
  },
  {
   "cell_type": "markdown",
   "metadata": {},
   "source": [
    "As we can see from the boxplot above, we have all the four coins on the x axis and on the y axis the price of the coin, and we can observe that from these four coins ETH and DASH had the most variance in price since last year. With particularly DASH having more outliners than the others, which means that there was a temporary spike in the price, but that later decreased it's value."
   ]
  },
  {
   "cell_type": "markdown",
   "metadata": {},
   "source": [
    "## Alternatives of Boxplot\n",
    "\n"
   ]
  },
  {
   "cell_type": "markdown",
   "metadata": {
    "scrolled": true
   },
   "source": [
    "Data visualization is a very important process of Data analysis and statistics, which allows us to quickly assess information, and with so many possible charts to use, it should be possible to effectively solve almost any task, whether it’s exploratory (analyzing data to better understand it) or explanatory (reporting data to others). However, variety can also cause confusion, making it difficult to clearly understand the purpose of each form of data visualization. Therefore choosing the correct chart for the given data is an important process.\n",
    "\n",
    "With that information in mind, its important to understand that not always the boxplot would be a good chart choice, and that other alternatives might fit better the purpose of the desired analysis."
   ]
  },
  {
   "cell_type": "markdown",
   "metadata": {},
   "source": [
    "#### Histogram\n",
    "\n",
    "<p align=\"center\"><img src=\"https://www.dummies.com/wp-content/uploads/490213.image0.jpg\" width=300px></p><br>\n",
    "\n",
    "\n",
    "The first alternative of a boxplot that I would like to discuss is the histogram, which is a type of bar chart that graphically displays the frequencies of a dataset, plotting the frequency, or raw count, on the Y-axis and the variable being measured on the X-axis. The major difference between a histogram and a bar chart is that a histogram displays frequencies for a group of data, rather than an individual data point; therefore, no spaces are present between the bars.\n",
    "\n",
    "Both charts effectively represent different data sets; however, in certain situations, one chart may be superior to the other in achieving the goal of identifying variances among data. Unfortunately, the box plot hides variation in between the values that it does show. A histogram can provide more details. \n",
    "\n",
    "A histogram is very useful when there is wide variances among the observed frequencies for a particular dataset. Another instance when a histogram is preferable over a boxplot is when variance among the observed frequencies is very little."
   ]
  },
  {
   "cell_type": "markdown",
   "metadata": {},
   "source": [
    "#### Density Plot\n",
    "\n",
    "\n",
    "<p align=\"center\"><img src=\"https://www.statmethods.net/graphs/images/density2.jpg\" width=300px></p><br>\n",
    "\n",
    "\n",
    "For smoother distributions, an alternative to both histograms and boxplots would be to use Density plots, also known as Kernel density plots, which is a variation from the Histogram, but that uses kernel smoothing to plot values, allowing for smoother distributions.\n",
    "\n",
    "The density plot visualises the distribution of data over a continuous interval or time period, although, a healthy amount of data is usually required to use these or you could end up with a lot of unwanted noise.\n",
    "\n",
    "An advantage of Density Plots have over Histograms is that they're better at determining the distribution shape because they're not affected by the number of bins used (each bar used in a typical histogram). A Histogram comprising of only 4 bins wouldn't produce a distinguishable enough shape of distribution as a 20-bin Histogram would. However, with Density Plots, this isn't an issue."
   ]
  },
  {
   "cell_type": "code",
   "execution_count": 1,
   "metadata": {
    "scrolled": true
   },
   "outputs": [
    {
     "ename": "NameError",
     "evalue": "name 'dataset' is not defined",
     "output_type": "error",
     "traceback": [
      "\u001b[1;31m---------------------------------------------------------------------------\u001b[0m",
      "\u001b[1;31mNameError\u001b[0m                                 Traceback (most recent call last)",
      "\u001b[1;32m<ipython-input-1-51f7e1a6b801>\u001b[0m in \u001b[0;36m<module>\u001b[1;34m()\u001b[0m\n\u001b[1;32m----> 1\u001b[1;33m \u001b[0mdataset\u001b[0m\u001b[1;33m.\u001b[0m\u001b[0mhist\u001b[0m\u001b[1;33m(\u001b[0m\u001b[1;33m)\u001b[0m\u001b[1;33m\u001b[0m\u001b[0m\n\u001b[0m\u001b[0;32m      2\u001b[0m \u001b[0mplt\u001b[0m\u001b[1;33m.\u001b[0m\u001b[0mshow\u001b[0m\u001b[1;33m(\u001b[0m\u001b[1;33m)\u001b[0m\u001b[1;33m\u001b[0m\u001b[0m\n",
      "\u001b[1;31mNameError\u001b[0m: name 'dataset' is not defined"
     ]
    }
   ],
   "source": [
    "dataset.hist() \n",
    "plt.show()"
   ]
  },
  {
   "cell_type": "code",
   "execution_count": null,
   "metadata": {},
   "outputs": [],
   "source": []
  },
  {
   "cell_type": "code",
   "execution_count": null,
   "metadata": {},
   "outputs": [],
   "source": []
  },
  {
   "cell_type": "code",
   "execution_count": null,
   "metadata": {
    "scrolled": true
   },
   "outputs": [],
   "source": []
  },
  {
   "cell_type": "code",
   "execution_count": null,
   "metadata": {
    "scrolled": true
   },
   "outputs": [],
   "source": []
  },
  {
   "cell_type": "code",
   "execution_count": null,
   "metadata": {
    "scrolled": true
   },
   "outputs": [],
   "source": []
  },
  {
   "cell_type": "code",
   "execution_count": null,
   "metadata": {
    "scrolled": false
   },
   "outputs": [],
   "source": []
  },
  {
   "cell_type": "markdown",
   "metadata": {},
   "source": [
    "## References\n",
    "\n",
    "[1] https://matplotlib.org/\n",
    "\n",
    "[2] https://coinmetrics.io/data-downloads/"
   ]
  },
  {
   "cell_type": "code",
   "execution_count": null,
   "metadata": {},
   "outputs": [],
   "source": []
  },
  {
   "cell_type": "code",
   "execution_count": null,
   "metadata": {},
   "outputs": [],
   "source": []
  }
 ],
 "metadata": {
  "kernelspec": {
   "display_name": "Python 3",
   "language": "python",
   "name": "python3"
  },
  "language_info": {
   "codemirror_mode": {
    "name": "ipython",
    "version": 3
   },
   "file_extension": ".py",
   "mimetype": "text/x-python",
   "name": "python",
   "nbconvert_exporter": "python",
   "pygments_lexer": "ipython3",
   "version": "3.6.5"
  }
 },
 "nbformat": 4,
 "nbformat_minor": 2
}
