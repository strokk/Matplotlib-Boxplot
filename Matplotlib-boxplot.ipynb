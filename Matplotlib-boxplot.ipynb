{
 "cells": [
  {
   "cell_type": "markdown",
   "metadata": {},
   "source": [
    "# Investigation into matplotlib.pyplot.boxplot"
   ]
  },
  {
   "cell_type": "markdown",
   "metadata": {},
   "source": [
    "## Introduction to matplotlib"
   ]
  },
  {
   "cell_type": "markdown",
   "metadata": {},
   "source": [
    "<p align=\"center\"><img src=\"https://matplotlib.org/_static/logo2.png\" width=300px></p>\n",
    "\n",
    "In order to better understand the investigation I will give a brief explanation into Matplotlib and boxplots. Firstly Matplotlib is a Python 2D multi-platform plotting library built on NumPy arrays, and designed to work with the broader SciPy stack.\n",
    "\n",
    "Matplotlib can be used in Python scripts, the Python and IPython shells, the Jupyter notebook, web application servers, and four graphical user interface toolkits.\n",
    "\n",
    "Matplotlib tries to make easy things easy and hard things possible. You can generate plots, histograms, power spectra, bar charts, errorcharts, scatterplots, etc., with just a few lines of code. [1]\n",
    "\n",
    "For simple plotting the pyplot module provides a MATLAB-like interface, particularly when combined with IPython. For the power user, you have full control of line styles, font properties, axes properties, etc, via an object oriented interface or via a set of functions familiar to MATLAB users.\n",
    "\n",
    "Matplotlib library has many Features, such as:\n",
    "\n",
    "- High Quality Plots Representation\n",
    "- PostScript Output For Inclusion With TeX Documents\n",
    "- Embedded In Wide Range Of Graphical Libraries\n",
    "- Allow User To Write Codes In Pythonic, Easy and Object Orient Program Way\n",
    "- Cross Platform Support\n",
    "- Good Performance\n",
    "- Can Handle Large Data\n",
    "\n",
    "As we can see, matplotlib is a very popular library used for producing simple and powerful visualizations, mostly due to facilitating the analyst or programmer who is using it to help reduce the workflow necessary and without having to worry about writing many lines of code. As an example, let's see how the Matplotlib library can be used to create a simple bar chart."
   ]
  },
  {
   "cell_type": "code",
   "execution_count": 5,
   "metadata": {},
   "outputs": [
    {
     "data": {
      "image/png": "[encoded data removed]",
      "text/plain": [
       "<Figure size 432x288 with 1 Axes>"
      ]
     },
     "metadata": {},
     "output_type": "display_data"
    }
   ],
   "source": [
    "#importing matplotlib library \n",
    "import matplotlib.pyplot as plt\n",
    "\n",
    "#magic command for jupyter notebook to make sure all plots are rendered\n",
    "%matplotlib inline\n",
    " \n",
    "#generating values for x-axis \n",
    "x = [5, 10, 15, 20, 25]\n",
    " \n",
    "#generating values for y-axis \n",
    "y = [12, 8, 10, 7, 5]\n",
    " \n",
    "#using the function to plot a bar chart\n",
    "plt.bar(x,y)\n",
    "\n",
    "#x and y labels\n",
    "plt.xlabel('x') \n",
    "plt.ylabel('y')  \n",
    " \n",
    "#showing the plot\n",
    "plt.show()"
   ]
  },
  {
   "cell_type": "markdown",
   "metadata": {},
   "source": [
    "## Introduction to Boxplots"
   ]
  },
  {
   "cell_type": "markdown",
   "metadata": {},
   "source": [
    "<p align=\"center\"><img src=\"https://cdn-images-1.medium.com/max/1600/1*2c21SkzJMf3frPXPAR_gZA.png\" width=550px></p>\n",
    "\n",
    "The above image ilustrates a boxplot, or also known as a box-and-whisker plot or a box-and-whisker diagram, which is a standardized way of displaying the distribution of a given data based on a five number summary (the “minimum”, first quartile (Q1), median, third quartile (Q3), and “maximum”). The boxplot can ilustrate the information about your outliers and what their values are. It can also tell if the given data is symmetrical, how tightly the data is grouped, and if and how the data is skewed.\n",
    "\n",
    "The median and quartiles divide a row of numbers into four groups of equal size, below I give some further descriptions of each number summary:\n",
    "\n",
    "- The extremes (Min and Max), which provide the range covered by the given data\n",
    "\n",
    "And these 3 together form the Interquartile range (IQR), which is the range covered by the middle 50% of the data:\n",
    "- Median: The median is at the middle value of the dataset.\n",
    "- First quartile (Q1): It's the middle number between the smallest number (not the “minimum”) and the median of the dataset.\n",
    "- Third quartile (Q3): It's the middle value between the median and the highest value (not the “maximum”) of the dataset.\n",
    "\n",
    "Another interesting aspect of the boxplot are:\n",
    "- Whiskers (shown in blue)\n",
    "- Outliers (shown as green circles)\n"
   ]
  },
  {
   "cell_type": "code",
   "execution_count": null,
   "metadata": {},
   "outputs": [],
   "source": []
  }
 ],
 "metadata": {
  "kernelspec": {
   "display_name": "Python 3",
   "language": "python",
   "name": "python3"
  },
  "language_info": {
   "codemirror_mode": {
    "name": "ipython",
    "version": 3
   },
   "file_extension": ".py",
   "mimetype": "text/x-python",
   "name": "python",
   "nbconvert_exporter": "python",
   "pygments_lexer": "ipython3",
   "version": "3.6.5"
  }
 },
 "nbformat": 4,
 "nbformat_minor": 2
}
